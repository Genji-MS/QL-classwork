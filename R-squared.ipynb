{
 "cells": [
  {
   "cell_type": "code",
   "execution_count": 92,
   "metadata": {},
   "outputs": [
    {
     "name": "stdout",
     "output_type": "stream",
     "text": [
      "MSE: 0.15385767404191164\n",
      "0.692876030278359\n"
     ]
    }
   ],
   "source": [
    "import numpy as np\n",
    "# Running dataset - Distance in Mile\n",
    "x = np.array([3.3,4.4,5.5,6.71,6.93,4.168,9.779,6.182,7.59,2.167,\n",
    "                         7.042,10.791,5.313,7.997,5.654,9.27,3.1])\n",
    "\n",
    "# Water dataset -  Drinks in Litre\n",
    "y = np.array([1.7,2.76,2.09,3.19,1.694,1.573,3.366,2.596,2.53,1.221,\n",
    "                         2.827,3.465,1.65,2.904,2.42,2.94,1.3])\n",
    "\n",
    "def r_sq(x, y, w_1, w_0):        \n",
    "    y_bar  = np.mean(y)\n",
    "    y_pred = [(w_1*i+w_0) for i in x]\n",
    "    SS_res = sum([(i-j)**2 for i,j in zip(y_pred,y)])\n",
    "    print(f'MSE: {SS_res/len(x)}')\n",
    "    SS_tot = sum([(i-y_bar)**2 for i in y])\n",
    "    return 1- SS_res/SS_tot\n",
    "\n",
    "print(r_sq(x, y, 0.25163494, 0.79880123))"
   ]
  },
  {
   "cell_type": "code",
   "execution_count": 93,
   "metadata": {},
   "outputs": [
    {
     "name": "stdout",
     "output_type": "stream",
     "text": [
      "0.25163494428355404\n",
      "0.7988012261753894\n",
      "r-squared: 0.6928760302783604\n"
     ]
    }
   ],
   "source": [
    "# Verify that your function works correctly\n",
    "\n",
    "from scipy import stats\n",
    "\n",
    "slope, intercept, r_value, p_value, std_err = stats.linregress(x, y)\n",
    "print (slope)\n",
    "print (intercept)\n",
    "print(\"r-squared:\", r_value**2)"
   ]
  },
  {
   "cell_type": "code",
   "execution_count": null,
   "metadata": {},
   "outputs": [],
   "source": []
  }
 ],
 "metadata": {
  "kernelspec": {
   "display_name": "Python 3",
   "language": "python",
   "name": "python3"
  },
  "language_info": {
   "codemirror_mode": {
    "name": "ipython",
    "version": 3
   },
   "file_extension": ".py",
   "mimetype": "text/x-python",
   "name": "python",
   "nbconvert_exporter": "python",
   "pygments_lexer": "ipython3",
   "version": "3.7.4"
  }
 },
 "nbformat": 4,
 "nbformat_minor": 4
}
