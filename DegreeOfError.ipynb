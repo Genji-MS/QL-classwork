{
 "cells": [
  {
   "cell_type": "code",
   "execution_count": 49,
   "metadata": {},
   "outputs": [
    {
     "name": "stdout",
     "output_type": "stream",
     "text": [
      "4.391304347826087\n",
      "4.391304347826087\n",
      "5\n",
      "5\n",
      "[1, 3, 5, 2, 3, 7, 8, 4, 10, 0, 6, 7, 3, 0, 3, 0, 5, 7, 10, 1, 4, 9, 3]\n",
      "4\n",
      "[3]\n",
      "[3]\n",
      "3\n",
      "10\n",
      "3\n",
      "6.454972243679028\n",
      "6.454972243679028\n",
      "[11, 17, 23]\n",
      "0.9574271077563381\n",
      "0.9166666666666666\n"
     ]
    }
   ],
   "source": [
    "%run 'Mean, Median, Mode, Variance, sDeviation, eSummation.ipynb'"
   ]
  },
  {
   "cell_type": "code",
   "execution_count": 3,
   "metadata": {},
   "outputs": [],
   "source": [
    "city_A = [29,28,32,35,36]\n",
    "city_B = [12,18,30,45,55]\n",
    "city_C = [32,32,32,32,32]"
   ]
  },
  {
   "cell_type": "code",
   "execution_count": 4,
   "metadata": {},
   "outputs": [
    {
     "name": "stdout",
     "output_type": "stream",
     "text": [
      "32.0\n"
     ]
    }
   ],
   "source": [
    "print (average_from_list(city_A))"
   ]
  },
  {
   "cell_type": "code",
   "execution_count": 5,
   "metadata": {},
   "outputs": [
    {
     "name": "stdout",
     "output_type": "stream",
     "text": [
      "32.0\n"
     ]
    }
   ],
   "source": [
    "print (average_from_list(city_B))"
   ]
  },
  {
   "cell_type": "code",
   "execution_count": 6,
   "metadata": {},
   "outputs": [
    {
     "name": "stdout",
     "output_type": "stream",
     "text": [
      "32.0\n"
     ]
    }
   ],
   "source": [
    "print (average_from_list(city_C))"
   ]
  },
  {
   "cell_type": "code",
   "execution_count": 7,
   "metadata": {},
   "outputs": [
    {
     "name": "stdout",
     "output_type": "stream",
     "text": [
      "3.5355339059327378\n"
     ]
    }
   ],
   "source": [
    "print (standard_deviation_from_list(city_A))"
   ]
  },
  {
   "cell_type": "code",
   "execution_count": 8,
   "metadata": {},
   "outputs": [
    {
     "name": "stdout",
     "output_type": "stream",
     "text": [
      "18.01388353465182\n"
     ]
    }
   ],
   "source": [
    "print (standard_deviation_from_list(city_B))"
   ]
  },
  {
   "cell_type": "code",
   "execution_count": 9,
   "metadata": {},
   "outputs": [
    {
     "name": "stdout",
     "output_type": "stream",
     "text": [
      "0.0\n"
     ]
    }
   ],
   "source": [
    "print (standard_deviation_from_list(city_C))"
   ]
  },
  {
   "cell_type": "code",
   "execution_count": 10,
   "metadata": {},
   "outputs": [
    {
     "name": "stdout",
     "output_type": "stream",
     "text": [
      "9.812528434899656\n"
     ]
    }
   ],
   "source": [
    "print (standard_deviation_from_list(city_A+city_B+city_C))"
   ]
  },
  {
   "cell_type": "code",
   "execution_count": 11,
   "metadata": {},
   "outputs": [
    {
     "data": {
      "text/plain": [
       "Text(0, 0.5, 'Liters Drink')"
      ]
     },
     "execution_count": 11,
     "metadata": {},
     "output_type": "execute_result"
    },
    {
     "data": {
      "image/png": "[encoded data removed]",
      "text/plain": [
       "<Figure size 432x288 with 1 Axes>"
      ]
     },
     "metadata": {
      "needs_background": "light"
     },
     "output_type": "display_data"
    }
   ],
   "source": [
    "#running disdance in mile\n",
    "import numpy as np\n",
    "import matplotlib.pyplot as plot\n",
    "X = np.array([3.3,4.4,5.5,6.71,6.93,4.168,9.779,6.182,7.59,2.167,7.042,10.791,5.313,7.997,5.654,9.27,3.1])\n",
    "Y = np.array([1.7,2.76,2.09,3.19,1.694,1.573,3.366,2.596,2.53,1.221,2.827,3.465,1.65,2.904,2.42,2.94,1.3])\n",
    "plot.scatter(X,Y)\n",
    "plot.xlabel('Running Distance')\n",
    "plot.ylabel('Liters Drink')"
   ]
  },
  {
   "cell_type": "code",
   "execution_count": 12,
   "metadata": {},
   "outputs": [],
   "source": [
    "def Y_prediction(Yslope, Xinter):\n",
    "    #\n",
    "    Yprediction = []\n",
    "    for item in X:\n",
    "        newitem = item*Yslope+Xinter\n",
    "        Yprediction.append(newitem)\n",
    "    return Yprediction"
   ]
  },
  {
   "cell_type": "code",
   "execution_count": 13,
   "metadata": {},
   "outputs": [],
   "source": [
    "Y_pred = Y_prediction(0.7,0.3)\n",
    "#print (Y_pred)"
   ]
  },
  {
   "cell_type": "code",
   "execution_count": 14,
   "metadata": {},
   "outputs": [
    {
     "data": {
      "text/plain": [
       "[<matplotlib.lines.Line2D at 0x11a501690>]"
      ]
     },
     "execution_count": 14,
     "metadata": {},
     "output_type": "execute_result"
    },
    {
     "data": {
      "image/png": "[encoded data removed]",
      "text/plain": [
       "<Figure size 432x288 with 1 Axes>"
      ]
     },
     "metadata": {
      "needs_background": "light"
     },
     "output_type": "display_data"
    }
   ],
   "source": [
    "plot.scatter(X,Y)\n",
    "plot.plot(X,Y_pred, 'ro-')"
   ]
  },
  {
   "cell_type": "code",
   "execution_count": 15,
   "metadata": {},
   "outputs": [],
   "source": [
    "def error_list(Y, Y_pred):\n",
    "    #difference between original data and predicted line\n",
    "    error_list = []\n",
    "    for orig,pred in zip(Y, Y_pred):\n",
    "        newdata = pred - orig\n",
    "        error_list.append(newdata)\n",
    "    return error_list"
   ]
  },
  {
   "cell_type": "code",
   "execution_count": 16,
   "metadata": {},
   "outputs": [
    {
     "name": "stdout",
     "output_type": "stream",
     "text": [
      "[0.9099999999999995, 0.6200000000000001, 2.0599999999999996, 1.807, 3.456999999999999, 1.6445999999999996, 3.7792999999999997, 2.0313999999999997, 3.0829999999999997, 0.5958999999999997, 2.402399999999999, 4.3887, 2.3691, 2.993899999999999, 1.8377999999999997, 3.848999999999999, 1.1699999999999997]\n"
     ]
    }
   ],
   "source": [
    "e_list = error_list(Y,Y_pred)\n",
    "print (e_list)"
   ]
  },
  {
   "cell_type": "code",
   "execution_count": 17,
   "metadata": {},
   "outputs": [
    {
     "name": "stdout",
     "output_type": "stream",
     "text": [
      "1.33435149117647\n"
     ]
    }
   ],
   "source": [
    "print (variance_from_sd(standard_deviation_from_list(e_list)))"
   ]
  },
  {
   "cell_type": "code",
   "execution_count": 18,
   "metadata": {},
   "outputs": [],
   "source": [
    "def mean_square_error(e_list):\n",
    "    MSE = 0\n",
    "    length = len(e_list)\n",
    "    for item in e_list:\n",
    "        square = item **2\n",
    "        MSE += square\n",
    "    return MSE/length"
   ]
  },
  {
   "cell_type": "code",
   "execution_count": 19,
   "metadata": {},
   "outputs": [
    {
     "name": "stdout",
     "output_type": "stream",
     "text": [
      "6.518593101764703\n"
     ]
    }
   ],
   "source": [
    "print (mean_square_error(e_list))"
   ]
  },
  {
   "cell_type": "code",
   "execution_count": 20,
   "metadata": {},
   "outputs": [
    {
     "data": {
      "text/plain": [
       "[<matplotlib.lines.Line2D at 0x11a606510>]"
      ]
     },
     "execution_count": 20,
     "metadata": {},
     "output_type": "execute_result"
    },
    {
     "data": {
      "image/png": "[encoded data removed]",
      "text/plain": [
       "<Figure size 432x288 with 1 Axes>"
      ]
     },
     "metadata": {
      "needs_background": "light"
     },
     "output_type": "display_data"
    }
   ],
   "source": [
    "Y_pred = Y_prediction(0.25163494,0.79880123)\n",
    "plot.scatter(X,Y)\n",
    "plot.plot(X,Y_pred, 'ro-')"
   ]
  },
  {
   "cell_type": "code",
   "execution_count": 21,
   "metadata": {},
   "outputs": [
    {
     "name": "stdout",
     "output_type": "stream",
     "text": [
      "0.16347377866953058\n",
      "0.15385767404191164\n"
     ]
    }
   ],
   "source": [
    "e_list = error_list(Y,Y_pred)\n",
    "print (variance_from_sd(standard_deviation_from_list(e_list)))\n",
    "print (mean_square_error(e_list))"
   ]
  },
  {
   "cell_type": "code",
   "execution_count": 22,
   "metadata": {},
   "outputs": [],
   "source": [
    "def MSE(Y, Y_pred):\n",
    "    E = [(i-j)**2 for i,j in zip(Y,Y_pred)]\n",
    "    return sum(E)/len(E)"
   ]
  },
  {
   "cell_type": "code",
   "execution_count": 23,
   "metadata": {},
   "outputs": [
    {
     "name": "stdout",
     "output_type": "stream",
     "text": [
      "0.15385767404191164\n"
     ]
    }
   ],
   "source": [
    "print (MSE(Y,Y_pred))"
   ]
  },
  {
   "cell_type": "code",
   "execution_count": 24,
   "metadata": {},
   "outputs": [],
   "source": [
    "#70 percentile of List X is a number denoted as A where \n",
    "#70% of elements in X would be lower then A\n",
    "#steps\n",
    "#1. sort, \n",
    "#2. index of the ordinal rank of the percentile value by calculating\n",
    "#index = ceiling ((percent/100) * len(data) -1)\n",
    "#3. find the value at that index"
   ]
  },
  {
   "cell_type": "code",
   "execution_count": 25,
   "metadata": {},
   "outputs": [],
   "source": [
    "import math\n",
    "def percentile_of_list(list, percent):\n",
    "    list.sort()\n",
    "    index = int( math.ceil( (percent/100) * len(list)-1 ) )\n",
    "    return list[index]"
   ]
  },
  {
   "cell_type": "code",
   "execution_count": 26,
   "metadata": {},
   "outputs": [],
   "source": [
    "data = [1, 3, 5, 2, 3, 7, 8, 4, 10, 0, 6, 7, 3, 0, 3, 0, 5, 7, 10, 1, 4, 9, 3]"
   ]
  },
  {
   "cell_type": "code",
   "execution_count": 27,
   "metadata": {},
   "outputs": [
    {
     "name": "stdout",
     "output_type": "stream",
     "text": [
      "3\n"
     ]
    }
   ],
   "source": [
    "print (percentile_of_list(data,44))"
   ]
  },
  {
   "cell_type": "code",
   "execution_count": 28,
   "metadata": {},
   "outputs": [
    {
     "data": {
      "text/plain": [
       "3.0"
      ]
     },
     "execution_count": 28,
     "metadata": {},
     "output_type": "execute_result"
    }
   ],
   "source": [
    "import numpy as np\n",
    "np.percentile(data,44)"
   ]
  },
  {
   "cell_type": "code",
   "execution_count": 29,
   "metadata": {},
   "outputs": [],
   "source": [
    "def percentage_of_elements(list, value):\n",
    "    count = 0\n",
    "    length = len(list)\n",
    "    for item in list:\n",
    "        if item <= value:\n",
    "            count +=1\n",
    "    return count/length"
   ]
  },
  {
   "cell_type": "code",
   "execution_count": 30,
   "metadata": {},
   "outputs": [
    {
     "name": "stdout",
     "output_type": "stream",
     "text": [
      "0.4782608695652174\n"
     ]
    }
   ],
   "source": [
    "print (percentage_of_elements(data,3))"
   ]
  },
  {
   "cell_type": "code",
   "execution_count": 31,
   "metadata": {},
   "outputs": [
    {
     "name": "stdout",
     "output_type": "stream",
     "text": [
      "30.808076923076925\n",
      "30.665\n"
     ]
    }
   ],
   "source": [
    "print (  ( (28.34*61)+(32.99*69) )/(61+69)  )\n",
    "print ((28.34 + 32.99)/2)"
   ]
  },
  {
   "cell_type": "code",
   "execution_count": 50,
   "metadata": {},
   "outputs": [
    {
     "name": "stdout",
     "output_type": "stream",
     "text": [
      "1.465611875\n",
      "1.7607236855873312\n",
      "0.8323917528894436\n"
     ]
    }
   ],
   "source": [
    "print(correlation(X,Y))"
   ]
  },
  {
   "cell_type": "code",
   "execution_count": 33,
   "metadata": {},
   "outputs": [
    {
     "name": "stdout",
     "output_type": "stream",
     "text": [
      "[ 3.3    4.4    5.5    6.71   6.93   4.168  9.779  6.182  7.59   2.167\n",
      "  7.042 10.791  5.313  7.997  5.654  9.27   3.1  ]\n"
     ]
    }
   ],
   "source": [
    "print(X)"
   ]
  },
  {
   "cell_type": "code",
   "execution_count": 34,
   "metadata": {},
   "outputs": [
    {
     "name": "stdout",
     "output_type": "stream",
     "text": [
      "[1.7   2.76  2.09  3.19  1.694 1.573 3.366 2.596 2.53  1.221 2.827 3.465\n",
      " 1.65  2.904 2.42  2.94  1.3  ]\n"
     ]
    }
   ],
   "source": [
    "print(Y)"
   ]
  },
  {
   "cell_type": "code",
   "execution_count": null,
   "metadata": {},
   "outputs": [],
   "source": []
  }
 ],
 "metadata": {
  "kernelspec": {
   "display_name": "Python 3",
   "language": "python",
   "name": "python3"
  },
  "language_info": {
   "codemirror_mode": {
    "name": "ipython",
    "version": 3
   },
   "file_extension": ".py",
   "mimetype": "text/x-python",
   "name": "python",
   "nbconvert_exporter": "python",
   "pygments_lexer": "ipython3",
   "version": "3.7.4"
  }
 },
 "nbformat": 4,
 "nbformat_minor": 4
}
