{
 "cells": [
  {
   "cell_type": "code",
   "execution_count": 2,
   "metadata": {},
   "outputs": [
    {
     "name": "stdout",
     "output_type": "stream",
     "text": [
      "6.000001000927568\n",
      "-3.999998999582033\n"
     ]
    }
   ],
   "source": [
    "## Numerial Derivative Calculation\n",
    "def f(x):\n",
    "    return x**2\n",
    "\n",
    "eps = 1e-6\n",
    "x = 3\n",
    "print ((f(x+eps) -f(x)) /eps)\n",
    "x = -2\n",
    "print ((f(x + eps) - f(x))/eps)"
   ]
  },
  {
   "cell_type": "code",
   "execution_count": 5,
   "metadata": {},
   "outputs": [
    {
     "name": "stdout",
     "output_type": "stream",
     "text": [
      "2*x\n",
      "6.00000000000000\n",
      "-4.00000000000000\n"
     ]
    }
   ],
   "source": [
    "# Analytical Derivative calculation\n",
    "from sympy import symbols, diff\n",
    "x = symbols('x',real=True)\n",
    "f = (x**2)\n",
    "fx = diff(f, x, evaluate=True)\n",
    "print(fx)\n",
    "\n",
    "print(fx.evalf(subs={x: 3}))\n",
    "print(fx.evalf(subs={x: -2}))"
   ]
  },
  {
   "cell_type": "code",
   "execution_count": 6,
   "metadata": {},
   "outputs": [
    {
     "name": "stdout",
     "output_type": "stream",
     "text": [
      "2*x/y\n",
      "-x**2/y**2\n",
      "4.00000000000000\n",
      "4.00000000000000\n"
     ]
    }
   ],
   "source": [
    "#Symbolic Python\n",
    "\n",
    "from sympy import symbols, diff\n",
    "x, y = symbols('x y', real = True)\n",
    "f = (x**2)/y\n",
    "fx = diff(f, x, evaluate= True)\n",
    "fy = diff(f, y, evaluate=True)\n",
    "print (fx)\n",
    "print(fy)\n",
    "#print (f.evalf(subs={x:2,y:1}))\n",
    "print (fx.evalf(subs={x:2,y:1}))\n",
    "print (fx.evalf(subs={x:2,y:1}))"
   ]
  },
  {
   "cell_type": "code",
   "execution_count": null,
   "metadata": {},
   "outputs": [],
   "source": []
  }
 ],
 "metadata": {
  "kernelspec": {
   "display_name": "Python 3",
   "language": "python",
   "name": "python3"
  },
  "language_info": {
   "codemirror_mode": {
    "name": "ipython",
    "version": 3
   },
   "file_extension": ".py",
   "mimetype": "text/x-python",
   "name": "python",
   "nbconvert_exporter": "python",
   "pygments_lexer": "ipython3",
   "version": "3.7.4"
  }
 },
 "nbformat": 4,
 "nbformat_minor": 4
}
