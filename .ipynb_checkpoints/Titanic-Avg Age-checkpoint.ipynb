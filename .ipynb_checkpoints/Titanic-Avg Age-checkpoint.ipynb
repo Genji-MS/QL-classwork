{
 "cells": [
  {
   "cell_type": "code",
   "execution_count": 1,
   "metadata": {},
   "outputs": [],
   "source": [
    "import pandas as pd"
   ]
  },
  {
   "cell_type": "code",
   "execution_count": 23,
   "metadata": {},
   "outputs": [
    {
     "name": "stdout",
     "output_type": "stream",
     "text": [
      "29.69911764705882\n"
     ]
    }
   ],
   "source": [
    "#read the CSV\n",
    "df = pd.read_csv('titanic.csv')\n",
    "#create a list of age values\n",
    "#not including N/A values\n",
    "ls_age = df['Age'].dropna().values\n",
    "#total number of ages\n",
    "total_age = 0\n",
    "#add each age into it\n",
    "for age in ls_age:\n",
    "    total_age += age\n",
    "#divide by the total number of entries\n",
    "avg_age = total_age / len(ls_age)\n",
    "#show the results\n",
    "print (avg_age)"
   ]
  },
  {
   "cell_type": "code",
   "execution_count": 20,
   "metadata": {},
   "outputs": [],
   "source": [
    "import numpy as np"
   ]
  },
  {
   "cell_type": "code",
   "execution_count": 21,
   "metadata": {},
   "outputs": [
    {
     "data": {
      "text/plain": [
       "29.69911764705882"
      ]
     },
     "execution_count": 21,
     "metadata": {},
     "output_type": "execute_result"
    }
   ],
   "source": [
    "np.mean(ls_age)"
   ]
  },
  {
   "cell_type": "code",
   "execution_count": 28,
   "metadata": {},
   "outputs": [
    {
     "name": "stdout",
     "output_type": "stream",
     "text": [
      "891\n",
      "714\n"
     ]
    }
   ],
   "source": [
    "#a list of gender values\n",
    "ls_gender = df['Sex'].dropna().values\n",
    "#check length of lists\n",
    "print(len(ls_gender))\n",
    "print(len(ls_age))"
   ]
  },
  {
   "cell_type": "code",
   "execution_count": 37,
   "metadata": {},
   "outputs": [
    {
     "name": "stdout",
     "output_type": "stream",
     "text": [
      "0.35241301907968575\n"
     ]
    }
   ],
   "source": [
    "#average number of females in the roster\n",
    "num_female = 0\n",
    "for gender in ls_gender:\n",
    "    if gender == 'female':\n",
    "        num_female += 1\n",
    "avg_num_females = num_female/ len(ls_gender)\n",
    "print (avg_num_females)"
   ]
  },
  {
   "cell_type": "code",
   "execution_count": 43,
   "metadata": {},
   "outputs": [
    {
     "name": "stdout",
     "output_type": "stream",
     "text": [
      "{2: 1, 3: 2, 7: 1, 0: 2}\n"
     ]
    }
   ],
   "source": [
    "#get unique values from a list\n",
    "ls = [2,3,3,7,0,0]\n",
    "unique_values = {}\n",
    "for num in ls:\n",
    "    if unique_values.get(num) != None:\n",
    "        unique_values[num] += 1\n",
    "    else:\n",
    "        unique_values[num] = 1\n",
    "print (unique_values)"
   ]
  },
  {
   "cell_type": "code",
   "execution_count": 72,
   "metadata": {},
   "outputs": [
    {
     "name": "stdout",
     "output_type": "stream",
     "text": [
      "27.915708812260537\n"
     ]
    }
   ],
   "source": [
    "ls_age = df['Age'].values\n",
    "ls_gender = df['Sex'].values\n",
    "\n",
    "total_age = 0\n",
    "num_female = 0\n",
    "\n",
    "#for i,j, in zip(ls_age, ls_gender)\n",
    "for index in range(len(ls_age)):\n",
    "    if ls_gender[index] == 'female':      \n",
    "        if np.isnan(ls_age[index]) == False:\n",
    "            num_female += 1\n",
    "            total_age += ls_age[index]\n",
    "avg_age = total_age / num_female\n",
    "print(avg_age)"
   ]
  },
  {
   "cell_type": "code",
   "execution_count": null,
   "metadata": {},
   "outputs": [],
   "source": []
  }
 ],
 "metadata": {
  "kernelspec": {
   "display_name": "Python 3",
   "language": "python",
   "name": "python3"
  },
  "language_info": {
   "codemirror_mode": {
    "name": "ipython",
    "version": 3
   },
   "file_extension": ".py",
   "mimetype": "text/x-python",
   "name": "python",
   "nbconvert_exporter": "python",
   "pygments_lexer": "ipython3",
   "version": "3.7.4"
  }
 },
 "nbformat": 4,
 "nbformat_minor": 4
}
