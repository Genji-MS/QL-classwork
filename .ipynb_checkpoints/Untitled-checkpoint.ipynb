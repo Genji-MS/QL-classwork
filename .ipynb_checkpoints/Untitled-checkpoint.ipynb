{
 "cells": [
  {
   "cell_type": "code",
   "execution_count": 1,
   "metadata": {},
   "outputs": [],
   "source": [
    "nList = [100.51, 82.95, 91.1, 74.2, 82.9, 66, 75.5, 57.4, 68.6, 49.2]\n",
    "uList = [-81.3, 27.5, -79.6, 19.05, -77.79, 10.6, -76.09, 3.3, -74.2, -6.2]"
   ]
  },
  {
   "cell_type": "code",
   "execution_count": 4,
   "metadata": {},
   "outputs": [],
   "source": [
    "def difference(listA, listB):\n",
    "    diff_list = []\n",
    "    for n,u in zip(listA, listB):\n",
    "        diff_list.append(n-u)\n",
    "    return diff_list"
   ]
  },
  {
   "cell_type": "code",
   "execution_count": 5,
   "metadata": {},
   "outputs": [
    {
     "name": "stdout",
     "output_type": "stream",
     "text": [
      "[181.81, 55.45, 170.7, 55.150000000000006, 160.69, 55.4, 151.59, 54.1, 142.8, 55.400000000000006]\n"
     ]
    }
   ],
   "source": [
    "print (difference(nList,uList))"
   ]
  },
  {
   "cell_type": "code",
   "execution_count": 6,
   "metadata": {},
   "outputs": [
    {
     "name": "stdout",
     "output_type": "stream",
     "text": [
      "[0.0, 0.0, 9.41000000000001, 8.75, 8.199999999999989, 8.200000000000003, 7.400000000000006, 8.600000000000001, 6.900000000000006, 8.199999999999996]\n"
     ]
    }
   ],
   "source": [
    "n2List = [100.51, 82.95, 100.51, 82.95, 91.1, 74.2, 82.9, 66, 75.5, 57.4, 68.6, 49.2]\n",
    "print (difference(n2List, nList))"
   ]
  },
  {
   "cell_type": "code",
   "execution_count": 9,
   "metadata": {},
   "outputs": [
    {
     "name": "stdout",
     "output_type": "stream",
     "text": [
      "6\n",
      "0.75\n",
      "7.050000000000001\n"
     ]
    }
   ],
   "source": [
    "print(88-82)\n",
    "print(6/8)\n",
    "print(9.4 * 0.75)"
   ]
  },
  {
   "cell_type": "code",
   "execution_count": 19,
   "metadata": {},
   "outputs": [
    {
     "name": "stdout",
     "output_type": "stream",
     "text": [
      "28\n",
      "3.5\n",
      "28.200000000000003\n"
     ]
    }
   ],
   "source": [
    "print(110-82)\n",
    "print(28/8)\n",
    "print(9.4* 3)"
   ]
  },
  {
   "cell_type": "code",
   "execution_count": 20,
   "metadata": {},
   "outputs": [],
   "source": [
    "def return_x(y):\n",
    "    return ((((y-82) /8) *9.4) +100.51)"
   ]
  },
  {
   "cell_type": "code",
   "execution_count": 23,
   "metadata": {},
   "outputs": [
    {
     "name": "stdout",
     "output_type": "stream",
     "text": [
      "133.41\n",
      "107.56\n"
     ]
    }
   ],
   "source": [
    "print (return_x(110))\n",
    "print (return_x(88))"
   ]
  },
  {
   "cell_type": "code",
   "execution_count": 55,
   "metadata": {},
   "outputs": [
    {
     "name": "stdout",
     "output_type": "stream",
     "text": [
      "20\n",
      "7\n",
      "57.4\n"
     ]
    }
   ],
   "source": [
    "import random\n",
    "length = len(nList) + len(uList)\n",
    "rng = random.randint(0,(len(nList) + len(uList))-1)\n",
    "print (length)\n",
    "print (rng)\n",
    "print ((nList+uList)[rng])\n",
    "if (rng > len(nList)):\n",
    "    rng = rng%len(nList)\n",
    "    print (rng)"
   ]
  },
  {
   "cell_type": "code",
   "execution_count": 82,
   "metadata": {},
   "outputs": [
    {
     "name": "stdout",
     "output_type": "stream",
     "text": [
      "16\n",
      "3.928\n",
      "-5.28\n"
     ]
    }
   ],
   "source": [
    "rng = random.randint(14,28)\n",
    "print (rng)\n",
    "print ((rng-14)*0.064 + 3.8)\n",
    "print ((rng-14)*-2.29 + -0.7)"
   ]
  },
  {
   "cell_type": "code",
   "execution_count": null,
   "metadata": {},
   "outputs": [],
   "source": [
    "#How Numbers Deceive"
   ]
  },
  {
   "cell_type": "code",
   "execution_count": 84,
   "metadata": {},
   "outputs": [
    {
     "name": "stdout",
     "output_type": "stream",
     "text": [
      "0.5\n",
      "0.5714285714285714\n"
     ]
    }
   ],
   "source": [
    "print ((4+3)/(10+4))\n",
    "print ((1+7)/(4+10))"
   ]
  },
  {
   "cell_type": "code",
   "execution_count": 85,
   "metadata": {},
   "outputs": [
    {
     "name": "stdout",
     "output_type": "stream",
     "text": [
      "0.8672598675496689\n",
      "0.8911006228373702\n"
     ]
    }
   ],
   "source": [
    "print(((559*0.889)+(233*0.948)+(232*0.914)+(605*0.831)+(2146*0.858))/3775 )\n",
    "print(((811*0.856)+(5255*0.921)+(448*0.855)+(449*0.713)+(262*0.767))/7225 )"
   ]
  },
  {
   "cell_type": "code",
   "execution_count": null,
   "metadata": {},
   "outputs": [],
   "source": [
    "#Array Manipulation"
   ]
  },
  {
   "cell_type": "code",
   "execution_count": 87,
   "metadata": {},
   "outputs": [],
   "source": [
    "import numpy as np\n",
    "#features of subjects (weight and height)\n",
    "\n",
    "X = np.array(\n",
    "[[73.847017017515, 241.893563180437],\n",
    " [68.7819040458903, 162.3104725213],\n",
    " [74.1101053917849, 212.7408555565],\n",
    " [71.7309784033377, 220.042470303077],\n",
    " [69.8817958611153, 206.349800623871],\n",
    " [67.2530156878065, 152.212155757083],\n",
    " [68.7850812516616, 183.927888604031],\n",
    " [68.3485155115879, 167.971110489509],\n",
    " [67.018949662883, 175.92944039571],\n",
    " [63.4564939783664, 156.399676387112]]\n",
    ")"
   ]
  },
  {
   "cell_type": "code",
   "execution_count": 89,
   "metadata": {},
   "outputs": [
    {
     "data": {
      "text/plain": [
       "(10, 2)"
      ]
     },
     "execution_count": 89,
     "metadata": {},
     "output_type": "execute_result"
    }
   ],
   "source": [
    "X.shape\n",
    "#reveals the number of column and rows"
   ]
  },
  {
   "cell_type": "code",
   "execution_count": 105,
   "metadata": {},
   "outputs": [
    {
     "name": "stdout",
     "output_type": "stream",
     "text": [
      "69.32138568119487\n",
      "187.97774338186304\n",
      "208.667432437037\n",
      "67.018949662883\n"
     ]
    }
   ],
   "source": [
    "print (np.mean(X[:, 0])) #Weight\n",
    "#As formatted above, ':' == Column\n",
    "print (np.mean(X[:, 1])) #Height\n",
    "print (np.mean(X[0:5, 1])) #Height from 0-5\n",
    "print (np.mean(X[9-1, 0])) #weight of 9th person"
   ]
  },
  {
   "cell_type": "code",
   "execution_count": 125,
   "metadata": {},
   "outputs": [],
   "source": [
    "def X_scaled(list_x, mean_x, mean_y):\n",
    "    list_scale = []\n",
    "    for w,h in zip (list_x[:,0],list_x[:,1]):\n",
    "        list_scale.append([w-mean_x,h-mean_y])\n",
    "    return list_scale"
   ]
  },
  {
   "cell_type": "code",
   "execution_count": 127,
   "metadata": {},
   "outputs": [
    {
     "name": "stdout",
     "output_type": "stream",
     "text": [
      "[[4.5256313363201315, 53.91581979857398], [-0.5394816353045684, -25.667270860563036], [4.78871971059003, 24.763112174636973], [2.4095927221428326, 32.064726921213975], [0.5604101799204244, 18.37205724200797], [-2.068369993388373, -35.76558762478004], [-0.5363044295332742, -4.049854777832024], [-0.9728701696069635, -20.006632892354048], [-2.302436018311866, -12.048302986153033], [-5.864891702828466, -31.578066994751026]]\n"
     ]
    }
   ],
   "source": [
    "print (X_scaled(X, 69.32138568119487, 187.97774338186304))\n",
    "#Long way"
   ]
  },
  {
   "cell_type": "code",
   "execution_count": 128,
   "metadata": {},
   "outputs": [
    {
     "data": {
      "text/plain": [
       "array([ 69.32138568, 187.97774338])"
      ]
     },
     "execution_count": 128,
     "metadata": {},
     "output_type": "execute_result"
    }
   ],
   "source": [
    "np.mean(X, axis=0)\n",
    "#Short way"
   ]
  },
  {
   "cell_type": "code",
   "execution_count": 117,
   "metadata": {},
   "outputs": [
    {
     "data": {
      "text/plain": [
       "array([[  4.52563134,  53.9158198 ],\n",
       "       [ -0.53948164, -25.66727086],\n",
       "       [  4.78871971,  24.76311217],\n",
       "       [  2.40959272,  32.06472692],\n",
       "       [  0.56041018,  18.37205724],\n",
       "       [ -2.06836999, -35.76558762],\n",
       "       [ -0.53630443,  -4.04985478],\n",
       "       [ -0.97287017, -20.00663289],\n",
       "       [ -2.30243602, -12.04830299],\n",
       "       [ -5.8648917 , -31.57806699]])"
      ]
     },
     "execution_count": 117,
     "metadata": {},
     "output_type": "execute_result"
    }
   ],
   "source": [
    "X - np.mean(X, axis=0)"
   ]
  },
  {
   "cell_type": "code",
   "execution_count": 123,
   "metadata": {},
   "outputs": [
    {
     "name": "stdout",
     "output_type": "stream",
     "text": [
      "[[1 2]\n",
      " [3 4]]\n",
      "10\n",
      "[4 6]\n",
      "[3 7]\n"
     ]
    }
   ],
   "source": [
    "#Column addition\n",
    "import numpy as np\n",
    "\n",
    "A = np.array([[1,2],[3,4]])\n",
    "print (A)\n",
    "print (np.sum(A)) #Compute sum of all elements\n",
    "print (np.sum(A, axis=0)) #Compute sum of each comumn\n",
    "print (np.sum(A, axis=1)) #Compute sum of each row"
   ]
  },
  {
   "cell_type": "code",
   "execution_count": 130,
   "metadata": {},
   "outputs": [
    {
     "name": "stdout",
     "output_type": "stream",
     "text": [
      "(4, 3)\n",
      "[[ 2  2  4]\n",
      " [ 5  5  7]\n",
      " [ 8  8 10]\n",
      " [11 11 13]]\n"
     ]
    }
   ],
   "source": [
    "#Broadcasting\n",
    "A = np.array([ [1,2,3,], [4,5,6], [7,8,9],[10,11,12] ])\n",
    "print(A.shape)\n",
    "vector3 = np.array([1,0,1])\n",
    "\n",
    "#apply the vector3 to scale everything in A\n",
    "print (A+vector3)"
   ]
  },
  {
   "cell_type": "code",
   "execution_count": 131,
   "metadata": {},
   "outputs": [
    {
     "data": {
      "text/plain": [
       "array([[ 1,  2,  3,  4,  5,  6],\n",
       "       [ 7,  8,  9, 10, 11, 12]])"
      ]
     },
     "execution_count": 131,
     "metadata": {},
     "output_type": "execute_result"
    }
   ],
   "source": [
    "A.reshape(2,6)"
   ]
  },
  {
   "cell_type": "code",
   "execution_count": 148,
   "metadata": {},
   "outputs": [
    {
     "name": "stdout",
     "output_type": "stream",
     "text": [
      "3.5\n"
     ]
    }
   ],
   "source": [
    "#quiz\n",
    "p = 1/6\n",
    "print ((1*p)+(2*p)+(3*p)+(4*p)+(5*p)+(6*p))"
   ]
  },
  {
   "cell_type": "code",
   "execution_count": 146,
   "metadata": {},
   "outputs": [
    {
     "name": "stdout",
     "output_type": "stream",
     "text": [
      "0.4083333333333334\n"
     ]
    }
   ],
   "source": [
    "print ((p/1)+(p/2)+(p/3)+(p/4)+(p/5)+(p/6))"
   ]
  },
  {
   "cell_type": "code",
   "execution_count": 1,
   "metadata": {},
   "outputs": [],
   "source": [
    "#R-squared variation\n",
    "#function written for my own notes\n",
    "def SS_residuals_from_only_xy(x, y):\n",
    "    SS_res = 0\n",
    "    x_mean = np.mean(x)\n",
    "    y_mean = np.mean(y)\n",
    "    XY = []\n",
    "    for i,j in zip(x,y):\n",
    "        XY.append(i*j)\n",
    "    print (f'XY : {XY}')\n",
    "    X2 = []\n",
    "    for i in x:\n",
    "        X2.append(i**2)\n",
    "    print (f'X2 : {X2}')\n",
    "    x_div = []\n",
    "    for i in x:\n",
    "        x_div.append(i-x_mean)\n",
    "    print(f'x_div : {x_div}')\n",
    "    y_div = []\n",
    "    for i in y:\n",
    "        y_div.append(i-y_mean)\n",
    "    print(f'y_div : {y_div}')\n",
    "    x_div2 = []\n",
    "    for i in x_div:\n",
    "        x_div2.append(i**2)\n",
    "    print(f'x_div2 : {x_div2}')\n",
    "    xy = []\n",
    "    for xd,yd in zip(x_div,y_div):\n",
    "        xy.append(xd*yd)\n",
    "    print(f'xy : {xy}')\n",
    "        \n",
    "    slope_b2 = np.sum(xy)/np.sum(x_div2)#aka w_1\n",
    "    intercept_b1 = y_mean-slope_b2*x_mean#aka w_0\n",
    "    print (f'slope{slope_b2} int{intercept_b1}')\n",
    "    \n",
    "    y_fit = []\n",
    "    for i in x:\n",
    "        y_fit.append(intercept_b1+slope_b2*i)\n",
    "    print (f'y_fit : {y_fit}')\n",
    "    \n",
    "    e = []\n",
    "    for i,j in zip(y_fit,y):\n",
    "        e.append(i-j)\n",
    "    print(f'e : {e}')\n",
    "    \n",
    "    SS_res = 0;\n",
    "    for i in e:\n",
    "        SS_res += i**2\n",
    "    return SS_res"
   ]
  },
  {
   "cell_type": "code",
   "execution_count": 2,
   "metadata": {},
   "outputs": [],
   "source": [
    "def SS_residuals(y,y_pred):\n",
    "    return sum([(i-j)**2 for i,j in zip(y_pred,y)])\n",
    "    #SS_res = 0   \n",
    "    #for i,j in zip(y_pred,y):\n",
    "    #    SS_res += (i-j)**2\n",
    "    #return SS_res"
   ]
  },
  {
   "cell_type": "code",
   "execution_count": 3,
   "metadata": {},
   "outputs": [
    {
     "ename": "NameError",
     "evalue": "name 'x' is not defined",
     "output_type": "error",
     "traceback": [
      "\u001b[0;31m---------------------------------------------------------------------------\u001b[0m",
      "\u001b[0;31mNameError\u001b[0m                                 Traceback (most recent call last)",
      "\u001b[0;32m<ipython-input-3-96cc063c99f9>\u001b[0m in \u001b[0;36m<module>\u001b[0;34m\u001b[0m\n\u001b[1;32m      9\u001b[0m     \u001b[0;32mreturn\u001b[0m \u001b[0mr2\u001b[0m\u001b[0;34m\u001b[0m\u001b[0;34m\u001b[0m\u001b[0m\n\u001b[1;32m     10\u001b[0m \u001b[0;34m\u001b[0m\u001b[0m\n\u001b[0;32m---> 11\u001b[0;31m \u001b[0mprint\u001b[0m \u001b[0;34m(\u001b[0m\u001b[0mother_r_squared\u001b[0m\u001b[0;34m(\u001b[0m\u001b[0mx\u001b[0m\u001b[0;34m,\u001b[0m\u001b[0my\u001b[0m\u001b[0;34m)\u001b[0m\u001b[0;34m)\u001b[0m\u001b[0;34m\u001b[0m\u001b[0;34m\u001b[0m\u001b[0m\n\u001b[0m",
      "\u001b[0;31mNameError\u001b[0m: name 'x' is not defined"
     ]
    }
   ],
   "source": [
    "import math\n",
    "\n",
    "def other_r_squared(x,y):\n",
    "    length = len(x)\n",
    "    \n",
    "    numb = length*(sum(x*y))-(sum(x))*(sum(y))\n",
    "    demo = math.sqrt( (length*(sum(x))**2 - (sum(x))**2) * (length*(sum(y))**2 - (sum(y))**2) )\n",
    "    r2 = numb/demo\n",
    "    return r2\n",
    "\n",
    "print (other_r_squared(x,y))"
   ]
  },
  {
   "cell_type": "code",
   "execution_count": null,
   "metadata": {},
   "outputs": [],
   "source": []
  }
 ],
 "metadata": {
  "kernelspec": {
   "display_name": "Python 3",
   "language": "python",
   "name": "python3"
  },
  "language_info": {
   "codemirror_mode": {
    "name": "ipython",
    "version": 3
   },
   "file_extension": ".py",
   "mimetype": "text/x-python",
   "name": "python",
   "nbconvert_exporter": "python",
   "pygments_lexer": "ipython3",
   "version": "3.7.4"
  }
 },
 "nbformat": 4,
 "nbformat_minor": 4
}
