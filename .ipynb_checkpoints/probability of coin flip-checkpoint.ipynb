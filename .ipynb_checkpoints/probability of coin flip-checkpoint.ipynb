{
 "cells": [
  {
   "cell_type": "code",
   "execution_count": 19,
   "metadata": {},
   "outputs": [],
   "source": [
    "from random import choices\n",
    "\n",
    "def coinFlip (probability, flips):\n",
    "    side = ['H', 'T']\n",
    "    weight = [probability, 1-probability]\n",
    "    output = []\n",
    "    for i in range(flips):\n",
    "        output.append(choices(side,weight)[0])\n",
    "    return output"
   ]
  },
  {
   "cell_type": "code",
   "execution_count": 23,
   "metadata": {},
   "outputs": [],
   "source": [
    "#function to call 3 flips, compare if 2H, store counters for numer/denominator\n",
    "import numpy as np\n",
    "def coinTest(numTests, numHeads):\n",
    "    num_tests = 0\n",
    "    num_passed = 0\n",
    "    coinDict = {}\n",
    "    for _ in range(numTests):\n",
    "        test_result = coinFlip(.5,3)\n",
    "        head = 0\n",
    "        tail = 0\n",
    "        for flip in test_result:\n",
    "            if flip == 'H':\n",
    "                head +=1\n",
    "        if head == numHeads:\n",
    "            num_passed +=1\n",
    "        num_tests +=1\n",
    "        coinWord = ''.join(test_result)\n",
    "        if coinWord in coinDict:\n",
    "            coinDict[coinWord] +=1\n",
    "        else:\n",
    "            coinDict[coinWord] = 1\n",
    "        \n",
    "    output = f'{num_passed} / {num_tests} \\nprobability:{num_passed/num_tests}'\n",
    "    output += f'\\n3/{np.sum(coinDict.keys())}'\n",
    "    return output"
   ]
  },
  {
   "cell_type": "code",
   "execution_count": 24,
   "metadata": {},
   "outputs": [
    {
     "name": "stdout",
     "output_type": "stream",
     "text": [
      "['H', 'T', 'H']\n",
      "378 / 1000 \n",
      " probability:0.3783/\n",
      " dict_keys(['HTT', 'HHH', 'TTH', 'TTT', 'THT', 'HTH', 'HHT', 'THH'])\n"
     ]
    }
   ],
   "source": [
    "print (coinFlip(.5,3))\n",
    "print (coinTest(1000, 2))"
   ]
  },
  {
   "cell_type": "code",
   "execution_count": null,
   "metadata": {},
   "outputs": [],
   "source": []
  }
 ],
 "metadata": {
  "kernelspec": {
   "display_name": "Python 3",
   "language": "python",
   "name": "python3"
  },
  "language_info": {
   "codemirror_mode": {
    "name": "ipython",
    "version": 3
   },
   "file_extension": ".py",
   "mimetype": "text/x-python",
   "name": "python",
   "nbconvert_exporter": "python",
   "pygments_lexer": "ipython3",
   "version": "3.7.4"
  }
 },
 "nbformat": 4,
 "nbformat_minor": 4
}
