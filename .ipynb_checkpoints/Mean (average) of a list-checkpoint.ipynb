{
 "cells": [
  {
   "cell_type": "code",
   "execution_count": 2,
   "metadata": {},
   "outputs": [],
   "source": [
    "def average_from_list (list):\n",
    "    total = 0\n",
    "    for num in list:\n",
    "        total += num\n",
    "    average = total / len(list)\n",
    "    return average"
   ]
  },
  {
   "cell_type": "code",
   "execution_count": 3,
   "metadata": {},
   "outputs": [
    {
     "name": "stdout",
     "output_type": "stream",
     "text": [
      "4.391304347826087\n"
     ]
    }
   ],
   "source": [
    "data = [1,3,5,2,3,7,8,4,10,0,6,7,3,0,3,0,5,7,10,1,4,9,3]\n",
    "print (average_from_list(data))"
   ]
  },
  {
   "cell_type": "code",
   "execution_count": 4,
   "metadata": {},
   "outputs": [
    {
     "name": "stdout",
     "output_type": "stream",
     "text": [
      "4.391304347826087\n"
     ]
    }
   ],
   "source": [
    "import numpy as np\n",
    "print (np.mean(data))"
   ]
  },
  {
   "cell_type": "code",
   "execution_count": 38,
   "metadata": {},
   "outputs": [],
   "source": [
    "def median_from_list (list):\n",
    "    list.sort()\n",
    "    length = len(list)\n",
    "    median = 0\n",
    "    if (length % 2 == 0):\n",
    "        index = int(length /2 -1)\n",
    "        get_avg = [list[index], list[index+1]]\n",
    "        median = average_from_list(get_avg)\n",
    "    else:\n",
    "        index = int( (length-1) /2)\n",
    "        median = list[index]\n",
    "    return median"
   ]
  },
  {
   "cell_type": "code",
   "execution_count": 35,
   "metadata": {},
   "outputs": [
    {
     "name": "stdout",
     "output_type": "stream",
     "text": [
      "5\n",
      "5\n"
     ]
    }
   ],
   "source": [
    "print (int(12/2-1)) #get middle number of even\n",
    "print (int((11-1)/2)) #get middle number of odd"
   ]
  },
  {
   "cell_type": "code",
   "execution_count": 41,
   "metadata": {},
   "outputs": [
    {
     "name": "stdout",
     "output_type": "stream",
     "text": [
      "[0, 0, 0, 1, 1, 2, 3, 3, 3, 3, 3, 4, 4, 5, 5, 6, 7, 7, 7, 8, 9, 10, 10]\n",
      "4\n"
     ]
    }
   ],
   "source": [
    "print (data)\n",
    "print (median_from_list(data))"
   ]
  },
  {
   "cell_type": "code",
   "execution_count": 51,
   "metadata": {},
   "outputs": [],
   "source": [
    "def mode_from_list (list):\n",
    "    #dictionary of each unique item, adding value for each repeat\n",
    "    mode_values = {}\n",
    "    #fill dictionary\n",
    "    for num in list:\n",
    "        if mode_values.get(num) != None:\n",
    "            mode_values[num] += 1\n",
    "        else:\n",
    "            mode_values[num] = 1\n",
    "    #keep track of the highest value\n",
    "    max_value = 0\n",
    "    #compare and store the highest value\n",
    "    for value in mode_values.values():\n",
    "        if value > max_value:\n",
    "            max_value = value\n",
    "    #list of key's with the higest value\n",
    "    mode_list = []\n",
    "    #itterate by key & value, checking if the value is = to our higest, store the key in list\n",
    "    for key,value in mode_values.items():\n",
    "        if value == max_value:\n",
    "            mode_list.append(key)\n",
    "    return mode_list\n",
    "    #easy mode\n",
    "    #runs the function key.get on each key, returns the key with the max value\n",
    "    #return (mode_values, max(mode_values, key=mode_values.get)) "
   ]
  },
  {
   "cell_type": "code",
   "execution_count": 52,
   "metadata": {},
   "outputs": [
    {
     "name": "stdout",
     "output_type": "stream",
     "text": [
      "[3]\n"
     ]
    }
   ],
   "source": [
    "print (mode_from_list(data))"
   ]
  },
  {
   "cell_type": "code",
   "execution_count": 53,
   "metadata": {},
   "outputs": [
    {
     "data": {
      "text/plain": [
       "ModeResult(mode=array([3]), count=array([5]))"
      ]
     },
     "execution_count": 53,
     "metadata": {},
     "output_type": "execute_result"
    }
   ],
   "source": [
    "#verify\n",
    "from scipy import stats\n",
    "stats.mode(data)"
   ]
  },
  {
   "cell_type": "code",
   "execution_count": 54,
   "metadata": {},
   "outputs": [],
   "source": [
    "#Assume this dictionary is given, write a function that returns the key which has the maximum value:\n",
    "d={1: 2, 3: 5, 5: 2, 2: 1, 7: 3, 8: 1, 4: 2, 10: 2, 0: 3, 6: 1, 9: 1}"
   ]
  },
  {
   "cell_type": "code",
   "execution_count": 55,
   "metadata": {},
   "outputs": [],
   "source": [
    "def mode_from_dict (dictionary):\n",
    "    max_value = 0\n",
    "    #compare and store the highest value\n",
    "    for value in dictionary.values():\n",
    "        if value > max_value:\n",
    "            max_value = value\n",
    "    #list of key's with the higest value\n",
    "    mode_list = []\n",
    "    #itterate by key & value, checking if the value is = to our higest, store the key in list\n",
    "    for key,value in dictionary.items():\n",
    "        if value == max_value:\n",
    "            mode_list.append(key)\n",
    "    return mode_list"
   ]
  },
  {
   "cell_type": "code",
   "execution_count": 56,
   "metadata": {},
   "outputs": [
    {
     "name": "stdout",
     "output_type": "stream",
     "text": [
      "[3]\n"
     ]
    }
   ],
   "source": [
    "print (mode_from_dict(d))"
   ]
  },
  {
   "cell_type": "code",
   "execution_count": 57,
   "metadata": {},
   "outputs": [
    {
     "name": "stdout",
     "output_type": "stream",
     "text": [
      "{1: 2, 3: 5, 5: 2, 2: 1, 7: 3, 8: 1, 4: 2, 10: 2, 0: 3, 6: 1, 9: 1} 3\n"
     ]
    }
   ],
   "source": [
    "print (d, max(d, key=d.get))"
   ]
  },
  {
   "cell_type": "code",
   "execution_count": null,
   "metadata": {},
   "outputs": [],
   "source": []
  }
 ],
 "metadata": {
  "kernelspec": {
   "display_name": "Python 3",
   "language": "python",
   "name": "python3"
  },
  "language_info": {
   "codemirror_mode": {
    "name": "ipython",
    "version": 3
   },
   "file_extension": ".py",
   "mimetype": "text/x-python",
   "name": "python",
   "nbconvert_exporter": "python",
   "pygments_lexer": "ipython3",
   "version": "3.7.4"
  }
 },
 "nbformat": 4,
 "nbformat_minor": 4
}
