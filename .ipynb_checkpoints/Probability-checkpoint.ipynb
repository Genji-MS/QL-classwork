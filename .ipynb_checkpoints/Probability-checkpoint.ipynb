{
 "cells": [
  {
   "cell_type": "code",
   "execution_count": 2,
   "metadata": {},
   "outputs": [
    {
     "name": "stdout",
     "output_type": "stream",
     "text": [
      "10.841600000000001\n"
     ]
    }
   ],
   "source": [
    "print ((.56*.44*.44)*100)"
   ]
  },
  {
   "cell_type": "code",
   "execution_count": 4,
   "metadata": {},
   "outputs": [
    {
     "name": "stdout",
     "output_type": "stream",
     "text": [
      "30.0\n"
     ]
    }
   ],
   "source": [
    "print (( (3/5)*(2/4) )*100)"
   ]
  },
  {
   "cell_type": "code",
   "execution_count": 17,
   "metadata": {},
   "outputs": [
    {
     "name": "stdout",
     "output_type": "stream",
     "text": [
      "60.00000000000001\n"
     ]
    }
   ],
   "source": [
    "print (( ((2/4)*(3/5)) + ((3/4)*(2/5)) )*100)"
   ]
  },
  {
   "cell_type": "code",
   "execution_count": 89,
   "metadata": {},
   "outputs": [],
   "source": [
    "import string\n",
    "\n",
    "def histogram (sentence):\n",
    "    parsed_text = []\n",
    "    for line in sentence:\n",
    "        parsed_text += line.split()\n",
    "        \n",
    "    histogram = {}\n",
    "    for word in parsed_text:\n",
    "        if word in histogram.keys():\n",
    "            histogram[word] += 1\n",
    "        else:\n",
    "            histogram[word] = 1\n",
    "    return histogram"
   ]
  },
  {
   "cell_type": "code",
   "execution_count": 90,
   "metadata": {},
   "outputs": [],
   "source": [
    "spam_data = ['Send us your password', 'review us', 'Send your password', 'Send us your account']\n",
    "ham_data = ['Send us your review', 'review your password']"
   ]
  },
  {
   "cell_type": "code",
   "execution_count": 91,
   "metadata": {},
   "outputs": [
    {
     "name": "stdout",
     "output_type": "stream",
     "text": [
      "{'Send': 3, 'us': 3, 'your': 3, 'password': 2, 'review': 1, 'account': 1}\n",
      "2\n"
     ]
    }
   ],
   "source": [
    "print (histogram(spam_data))\n",
    "print (histogram(spam_data)['password'])"
   ]
  },
  {
   "cell_type": "code",
   "execution_count": 92,
   "metadata": {},
   "outputs": [],
   "source": [
    "def probability_of_word(word, histogram):\n",
    "    found = False\n",
    "    output = 0\n",
    "    \n",
    "    if word in histogram:\n",
    "        output = histogram[word]/sum(histogram.values())\n",
    "    \n",
    "    return output"
   ]
  },
  {
   "cell_type": "code",
   "execution_count": 93,
   "metadata": {},
   "outputs": [
    {
     "name": "stdout",
     "output_type": "stream",
     "text": [
      "0.14285714285714285\n"
     ]
    }
   ],
   "source": [
    "d_spam = histogram(spam_data)\n",
    "d_ham = histogram(ham_data)\n",
    "print (probability_of_word('password',d_ham))"
   ]
  },
  {
   "cell_type": "code",
   "execution_count": 105,
   "metadata": {},
   "outputs": [],
   "source": [
    "def probability_will_be_spam(word):\n",
    "    prob_spam = 4/6\n",
    "    prob_ham = 2/6\n",
    "    d_spam = histogram(spam_data)\n",
    "    d_ham = histogram(ham_data)\n",
    "    #total of probability of individual word * spam frequency + same to 'ham'\n",
    "    prob_word = probability_of_word(word,d_spam) * prob_spam + probability_of_word(word,d_ham) * prob_ham\n",
    "    prob_spam_given_word = probability_of_word(word,d_spam)*prob_spam/prob_word\n",
    "    return (prob_spam_given_word)"
   ]
  },
  {
   "cell_type": "code",
   "execution_count": 107,
   "metadata": {},
   "outputs": [
    {
     "name": "stdout",
     "output_type": "stream",
     "text": [
      "0.35000000000000003\n"
     ]
    }
   ],
   "source": [
    "print (probability_will_be_spam('review'))"
   ]
  },
  {
   "cell_type": "code",
   "execution_count": null,
   "metadata": {},
   "outputs": [],
   "source": []
  }
 ],
 "metadata": {
  "kernelspec": {
   "display_name": "Python 3",
   "language": "python",
   "name": "python3"
  },
  "language_info": {
   "codemirror_mode": {
    "name": "ipython",
    "version": 3
   },
   "file_extension": ".py",
   "mimetype": "text/x-python",
   "name": "python",
   "nbconvert_exporter": "python",
   "pygments_lexer": "ipython3",
   "version": "3.7.4"
  }
 },
 "nbformat": 4,
 "nbformat_minor": 4
}
