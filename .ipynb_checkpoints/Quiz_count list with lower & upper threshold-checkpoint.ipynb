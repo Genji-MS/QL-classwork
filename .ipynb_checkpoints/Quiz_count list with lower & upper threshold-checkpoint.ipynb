{
 "cells": [
  {
   "cell_type": "code",
   "execution_count": null,
   "metadata": {},
   "outputs": [],
   "source": [
    "def count_list(lst, lower, upper):\n",
    "    #return how many elements is <list <upper \n",
    "    lower_t = []\n",
    "    upper_t = []\n",
    "    for item in lst:\n",
    "        if item >= lower:\n",
    "            lower_t += 1\n",
    "        if item >= upper:\n",
    "            upper_t += 1"
   ]
  }
 ],
 "metadata": {
  "kernelspec": {
   "display_name": "Python 3",
   "language": "python",
   "name": "python3"
  },
  "language_info": {
   "codemirror_mode": {
    "name": "ipython",
    "version": 3
   },
   "file_extension": ".py",
   "mimetype": "text/x-python",
   "name": "python",
   "nbconvert_exporter": "python",
   "pygments_lexer": "ipython3",
   "version": "3.7.4"
  }
 },
 "nbformat": 4,
 "nbformat_minor": 4
}
