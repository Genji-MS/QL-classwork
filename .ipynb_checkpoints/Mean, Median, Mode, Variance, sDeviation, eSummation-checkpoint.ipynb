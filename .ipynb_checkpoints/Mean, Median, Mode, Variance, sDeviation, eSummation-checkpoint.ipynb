{
 "cells": [
  {
   "cell_type": "code",
   "execution_count": 1,
   "metadata": {},
   "outputs": [],
   "source": [
    "def average_from_list (list):\n",
    "    # mean\n",
    "    total = 0\n",
    "    for num in list:\n",
    "        total += num\n",
    "    average = total / len(list)\n",
    "    return average"
   ]
  },
  {
   "cell_type": "code",
   "execution_count": 2,
   "metadata": {},
   "outputs": [
    {
     "name": "stdout",
     "output_type": "stream",
     "text": [
      "4.391304347826087\n"
     ]
    }
   ],
   "source": [
    "data = [1,3,5,2,3,7,8,4,10,0,6,7,3,0,3,0,5,7,10,1,4,9,3]\n",
    "print (average_from_list(data))"
   ]
  },
  {
   "cell_type": "code",
   "execution_count": 3,
   "metadata": {},
   "outputs": [
    {
     "name": "stdout",
     "output_type": "stream",
     "text": [
      "4.391304347826087\n"
     ]
    }
   ],
   "source": [
    "import numpy as np\n",
    "print (np.mean(data))"
   ]
  },
  {
   "cell_type": "code",
   "execution_count": 4,
   "metadata": {},
   "outputs": [],
   "source": [
    "def median_from_list (list):\n",
    "    # the middle element of a sorted list\n",
    "    list.sort()\n",
    "    length = len(list)\n",
    "    median = 0\n",
    "    if (length % 2 == 0):\n",
    "        index = int(length /2 -1)\n",
    "        get_avg = [list[index], list[index+1]]\n",
    "        median = average_from_list(get_avg)\n",
    "    else:\n",
    "        index = int( (length-1) /2)\n",
    "        median = list[index]\n",
    "    return median"
   ]
  },
  {
   "cell_type": "code",
   "execution_count": 5,
   "metadata": {},
   "outputs": [
    {
     "name": "stdout",
     "output_type": "stream",
     "text": [
      "5\n",
      "5\n"
     ]
    }
   ],
   "source": [
    "print (int(12/2-1)) #get middle number of even\n",
    "print (int((11-1)/2)) #get middle number of odd"
   ]
  },
  {
   "cell_type": "code",
   "execution_count": 6,
   "metadata": {},
   "outputs": [
    {
     "name": "stdout",
     "output_type": "stream",
     "text": [
      "[1, 3, 5, 2, 3, 7, 8, 4, 10, 0, 6, 7, 3, 0, 3, 0, 5, 7, 10, 1, 4, 9, 3]\n",
      "4\n"
     ]
    }
   ],
   "source": [
    "print (data)\n",
    "print (median_from_list(data))"
   ]
  },
  {
   "cell_type": "code",
   "execution_count": 7,
   "metadata": {},
   "outputs": [],
   "source": [
    "def mode_from_list (list):\n",
    "    # item(s) of a list with the highest frequency\n",
    "    #dictionary of each unique item, adding value for each repeat\n",
    "    mode_values = {}\n",
    "    #fill dictionary\n",
    "    for num in list:\n",
    "        if mode_values.get(num) != None:\n",
    "            mode_values[num] += 1\n",
    "        else:\n",
    "            mode_values[num] = 1\n",
    "    #keep track of the highest value\n",
    "    max_value = 0\n",
    "    #compare and store the highest value\n",
    "    for value in mode_values.values():\n",
    "        if value > max_value:\n",
    "            max_value = value\n",
    "    #list of key's with the higest value\n",
    "    mode_list = []\n",
    "    #itterate by key & value, checking if the value is = to our higest, store the key in list\n",
    "    for key,value in mode_values.items():\n",
    "        if value == max_value:\n",
    "            mode_list.append(key)\n",
    "    return mode_list\n",
    "    #easy mode\n",
    "    #runs the function key.get on each key, returns the key with the max value\n",
    "    #return (max(mode_values, key=mode_values.get)) "
   ]
  },
  {
   "cell_type": "code",
   "execution_count": 8,
   "metadata": {},
   "outputs": [
    {
     "name": "stdout",
     "output_type": "stream",
     "text": [
      "[3]\n"
     ]
    }
   ],
   "source": [
    "print (mode_from_list(data))"
   ]
  },
  {
   "cell_type": "code",
   "execution_count": 9,
   "metadata": {},
   "outputs": [
    {
     "data": {
      "text/plain": [
       "ModeResult(mode=array([3]), count=array([5]))"
      ]
     },
     "execution_count": 9,
     "metadata": {},
     "output_type": "execute_result"
    }
   ],
   "source": [
    "#verify\n",
    "from scipy import stats\n",
    "stats.mode(data)"
   ]
  },
  {
   "cell_type": "code",
   "execution_count": 10,
   "metadata": {},
   "outputs": [],
   "source": [
    "#Assume this dictionary is given, write a function that returns the key which has the maximum value:\n",
    "d={1: 2, 3: 5, 5: 2, 2: 1, 7: 3, 8: 1, 4: 2, 10: 2, 0: 3, 6: 1, 9: 1}"
   ]
  },
  {
   "cell_type": "code",
   "execution_count": 11,
   "metadata": {},
   "outputs": [],
   "source": [
    "def mode_from_dict (dictionary):\n",
    "    # item(s) of a dictionary with the highest frequency\n",
    "    max_value = 0\n",
    "    #compare and store the highest value\n",
    "    for value in dictionary.values():\n",
    "        if value > max_value:\n",
    "            max_value = value\n",
    "    #list of key's with the higest value\n",
    "    mode_list = []\n",
    "    #itterate by key & value, checking if the value is = to our higest, store the key in list\n",
    "    for key,value in dictionary.items():\n",
    "        if value == max_value:\n",
    "            mode_list.append(key)\n",
    "    return mode_list"
   ]
  },
  {
   "cell_type": "code",
   "execution_count": 12,
   "metadata": {},
   "outputs": [
    {
     "name": "stdout",
     "output_type": "stream",
     "text": [
      "[3]\n"
     ]
    }
   ],
   "source": [
    "print (mode_from_dict(d))"
   ]
  },
  {
   "cell_type": "code",
   "execution_count": 13,
   "metadata": {},
   "outputs": [
    {
     "name": "stdout",
     "output_type": "stream",
     "text": [
      "3\n"
     ]
    }
   ],
   "source": [
    "print (max(d, key=d.get))"
   ]
  },
  {
   "cell_type": "code",
   "execution_count": 14,
   "metadata": {},
   "outputs": [],
   "source": [
    "def range_from_list (list): \n",
    "    # difference between the highest and lowest number\n",
    "    list.sort()\n",
    "    last_item = len(list)-1\n",
    "    return (list[last_item] - list[0])"
   ]
  },
  {
   "cell_type": "code",
   "execution_count": 15,
   "metadata": {},
   "outputs": [
    {
     "name": "stdout",
     "output_type": "stream",
     "text": [
      "10\n"
     ]
    }
   ],
   "source": [
    "print (range_from_list(data))"
   ]
  },
  {
   "cell_type": "code",
   "execution_count": 16,
   "metadata": {},
   "outputs": [
    {
     "name": "stdout",
     "output_type": "stream",
     "text": [
      "3\n"
     ]
    }
   ],
   "source": [
    "print(range_from_list([6,7,8,9]))"
   ]
  },
  {
   "cell_type": "code",
   "execution_count": 17,
   "metadata": {},
   "outputs": [],
   "source": [
    "import math\n",
    "def standard_deviation_from_list(list): \n",
    "    #average number ± this deviation\n",
    "    mean = average_from_list(list)\n",
    "    cal_list = []\n",
    "    for num in list:\n",
    "        cal = num-mean\n",
    "        cal = cal **2\n",
    "        cal_list.append(cal)\n",
    "    total = 0\n",
    "    for num in cal_list:\n",
    "        total += num\n",
    "    nMinusOne = len(list)-1\n",
    "    variance = total/nMinusOne\n",
    "    standard_dev = math.sqrt(variance)\n",
    "    return (standard_dev)\n",
    "\n",
    "#list comprehension version\n",
    "#def deviation (ls):\n",
    "#    mean_ls = np.mean(ls)\n",
    "#    sum_squared_frm_mean = sum([(i - mean_ls)**2 for in in ls])\n",
    "#    return math.sqrt(sum_squared_from_mean/(len(ls) -1))"
   ]
  },
  {
   "cell_type": "code",
   "execution_count": 18,
   "metadata": {},
   "outputs": [
    {
     "name": "stdout",
     "output_type": "stream",
     "text": [
      "6.454972243679028\n"
     ]
    }
   ],
   "source": [
    "print (standard_deviation_from_list([5,10,15,20]))"
   ]
  },
  {
   "cell_type": "code",
   "execution_count": 19,
   "metadata": {},
   "outputs": [
    {
     "name": "stdout",
     "output_type": "stream",
     "text": [
      "6.454972243679028\n"
     ]
    }
   ],
   "source": [
    "print (np.std([5,10,15,20],ddof=1))#ddof is n-1, if it is empty it will be n"
   ]
  },
  {
   "cell_type": "code",
   "execution_count": 20,
   "metadata": {},
   "outputs": [],
   "source": [
    "# adding elements in pair\n",
    "def element_summation (list1, list2):\n",
    "    added_list = []\n",
    "    for one,two in zip(list1, list2):\n",
    "        added_list.append(one + two)\n",
    "    return added_list"
   ]
  },
  {
   "cell_type": "code",
   "execution_count": 21,
   "metadata": {},
   "outputs": [
    {
     "name": "stdout",
     "output_type": "stream",
     "text": [
      "[11, 17, 23]\n"
     ]
    }
   ],
   "source": [
    "print (element_summation([1,2,3],[10,15,20]))"
   ]
  },
  {
   "cell_type": "code",
   "execution_count": 22,
   "metadata": {},
   "outputs": [],
   "source": [
    "def variance_from_sd (sdt):\n",
    "    return sdt **2"
   ]
  },
  {
   "cell_type": "code",
   "execution_count": 23,
   "metadata": {},
   "outputs": [
    {
     "name": "stdout",
     "output_type": "stream",
     "text": [
      "0.9574271077563381\n"
     ]
    }
   ],
   "source": [
    "print (standard_deviation_from_list([1,1,2,3]))"
   ]
  },
  {
   "cell_type": "code",
   "execution_count": 24,
   "metadata": {},
   "outputs": [
    {
     "name": "stdout",
     "output_type": "stream",
     "text": [
      "0.9166666666666666\n"
     ]
    }
   ],
   "source": [
    "print (variance_from_sd(0.9574271077563381))"
   ]
  },
  {
   "cell_type": "code",
   "execution_count": 7,
   "metadata": {},
   "outputs": [],
   "source": [
    "def correlation(listX, listY):\n",
    "    #numerator is covariance of X,Y\n",
    "    length = len(listX)-1\n",
    "    lst = []\n",
    "    avgX = average_from_list(listX)\n",
    "    avgY = average_from_list(listY)\n",
    "    for i,j in zip(listX,listY):\n",
    "        lst.append((i-avgX)*(j-avgY))\n",
    "    sm = 0\n",
    "    for item in lst:\n",
    "        sm += item\n",
    "    numer = sm/length\n",
    "\n",
    "    #denominator is std(x) * std(y)\n",
    "    stdX = standard_deviation_from_list(listX)\n",
    "    stdY = standard_deviation_from_list(listY)\n",
    "    denom = stdX * stdY\n",
    "    print (numer)\n",
    "    print (denom)\n",
    "    return numer/denom"
   ]
  },
  {
   "cell_type": "code",
   "execution_count": null,
   "metadata": {},
   "outputs": [],
   "source": []
  }
 ],
 "metadata": {
  "kernelspec": {
   "display_name": "Python 3",
   "language": "python",
   "name": "python3"
  },
  "language_info": {
   "codemirror_mode": {
    "name": "ipython",
    "version": 3
   },
   "file_extension": ".py",
   "mimetype": "text/x-python",
   "name": "python",
   "nbconvert_exporter": "python",
   "pygments_lexer": "ipython3",
   "version": "3.7.4"
  }
 },
 "nbformat": 4,
 "nbformat_minor": 4
}
